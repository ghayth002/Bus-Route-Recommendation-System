{
  "cells": [
    {
      "cell_type": "markdown",
      "id": "8bf76e6b",
      "metadata": {},
      "source": [
        "# 🚌 Bus Route Recommendation System\n",
        "\n",
        "## Overview\n",
        "This notebook demonstrates a comprehensive bus route recommendation system that uses machine learning to suggest the best bus routes based on user preferences. The system analyzes bus schedule data and provides intelligent recommendations.\n",
        "\n",
        "### What you'll learn:\n",
        "- 📊 Data loading and exploration\n",
        "- 🧹 Data cleaning and preprocessing\n",
        "- 🔧 Feature engineering for time-based data\n",
        "- 🤖 Machine learning model training\n",
        "- 📈 Model evaluation and performance analysis\n",
        "- 🎯 Interactive recommendation system\n",
        "\n",
        "### Dataset\n",
        "We're working with bus schedule data from SRTGN (Société Régionale de Transport du Grand Nabeul) containing information about:\n",
        "- Bus routes and stations\n",
        "- Departure times and durations\n",
        "- Service types and seasonal variations\n",
        "- Weekly schedules"
      ]
    },
    {
      "cell_type": "markdown",
      "id": "5911d359",
      "metadata": {},
      "source": [
        "## 1. 📚 Import Required Libraries\n",
        "\n",
        "Let's start by importing all the necessary libraries for our analysis."
      ]
    },
    {
      "cell_type": "code",
      "execution_count": 1,
      "id": "40d230e6",
      "metadata": {},
      "outputs": [
        {
          "name": "stdout",
          "output_type": "stream",
          "text": [
            "✅ All libraries imported successfully!\n"
          ]
        }
      ],
      "source": [
        "# Data manipulation and analysis\n",
        "import pandas as pd\n",
        "import numpy as np\n",
        "\n",
        "# Machine learning\n",
        "from sklearn.model_selection import train_test_split\n",
        "from sklearn.ensemble import RandomForestClassifier\n",
        "from sklearn.preprocessing import OneHotEncoder\n",
        "from sklearn.compose import ColumnTransformer\n",
        "from sklearn.pipeline import Pipeline\n",
        "from sklearn.metrics import accuracy_score, classification_report, confusion_matrix\n",
        "\n",
        "# Data visualization\n",
        "import matplotlib.pyplot as plt\n",
        "import seaborn as sns\n",
        "from matplotlib import rcParams\n",
        "\n",
        "# Warnings\n",
        "import warnings\n",
        "warnings.filterwarnings('ignore')\n",
        "\n",
        "# Set up plotting style\n",
        "plt.style.use('default')\n",
        "rcParams['figure.figsize'] = (12, 8)\n",
        "rcParams['font.size'] = 10\n",
        "\n",
        "print(\"✅ All libraries imported successfully!\")"
      ]
    },
    {
      "cell_type": "markdown",
      "id": "c926f60d",
      "metadata": {},
      "source": [
        "## 2. 📂 Data Loading and Initial Exploration\n",
        "\n",
        "Let's load our bus schedule dataset and take a first look at the data structure."
      ]
    },
    {
      "cell_type": "code",
      "execution_count": 2,
      "id": "79dda4c0",
      "metadata": {},
      "outputs": [
        {
          "name": "stdout",
          "output_type": "stream",
          "text": [
            "✅ Excel file loaded successfully!\n",
            "📊 Dataset shape: (1561, 21)\n"
          ]
        }
      ],
      "source": [
        "# Load the dataset\n",
        "try:\n",
        "    df = pd.read_excel(\"horaires-des-bus-de-la-srtgn.xlsx\")\n",
        "    print(\"✅ Excel file loaded successfully!\")\n",
        "    print(f\"📊 Dataset shape: {df.shape}\")\n",
        "except FileNotFoundError:\n",
        "    print(\"❌ Error: 'horaires-des-bus-de-la-srtgn.xlsx' not found.\")\n",
        "    print(\"Please make sure the Excel file is in the same directory as this notebook.\")"
      ]
    },
    {
      "cell_type": "code",
      "execution_count": 3,
      "id": "5c36f642",
      "metadata": {},
      "outputs": [
        {
          "name": "stdout",
          "output_type": "stream",
          "text": [
            "🧹 Cleaned column names\n",
            "\n",
            "📋 Columns in dataset (21 total):\n",
            " 1. أحد\n",
            " 2. سبت\n",
            " 3. جمعة\n",
            " 4. خميس\n",
            " 5. اربعاء\n",
            " 6. ثلاثاء\n",
            " 7. إثنين\n",
            " 8. اتجاه السفرة\n",
            " 9. الكلم\n",
            "10. المدة\n",
            "11. محطة الوصول\n",
            "12. ساعة الإنطلاق\n",
            "13. محطة الانطلاق\n",
            "14. نوع الخدمة\n",
            "15. الموسم\n",
            "16. السفرة\n",
            "17. الخط\n",
            "18. الفرع\n",
            "19. المنطقة\n",
            "20. Unnamed: 19\n",
            "21. Unnamed: 20\n"
          ]
        }
      ],
      "source": [
        "# Clean column names by stripping whitespace\n",
        "df.columns = df.columns.str.strip()\n",
        "print(\"🧹 Cleaned column names\")\n",
        "print(f\"\\n📋 Columns in dataset ({len(df.columns)} total):\")\n",
        "for i, col in enumerate(df.columns, 1):\n",
        "    print(f\"{i:2d}. {col}\")"
      ]
    },
    {
      "cell_type": "code",
      "execution_count": 4,
      "id": "8018d97b",
      "metadata": {},
      "outputs": [
        {
          "name": "stdout",
          "output_type": "stream",
          "text": [
            "📈 Dataset Information:\n",
            "Number of rows: 1,561\n",
            "Number of columns: 21\n",
            "Memory usage: 1.68 MB\n",
            "\n",
            "🔍 Data Types:\n",
            "أحد               object\n",
            "سبت               object\n",
            "جمعة              object\n",
            "خميس              object\n",
            "اربعاء            object\n",
            "ثلاثاء            object\n",
            "إثنين             object\n",
            "اتجاه السفرة      object\n",
            "الكلم            float64\n",
            "المدة             object\n",
            "محطة الوصول       object\n",
            "ساعة الإنطلاق     object\n",
            "محطة الانطلاق     object\n",
            "نوع الخدمة        object\n",
            "الموسم            object\n",
            "السفرة           float64\n",
            "الخط              object\n",
            "الفرع             object\n",
            "المنطقة           object\n",
            "Unnamed: 19      float64\n",
            "Unnamed: 20       object\n",
            "dtype: object\n"
          ]
        }
      ],
      "source": [
        "# Display basic information about the dataset\n",
        "print(\"📈 Dataset Information:\")\n",
        "print(f\"Number of rows: {df.shape[0]:,}\")\n",
        "print(f\"Number of columns: {df.shape[1]}\")\n",
        "print(f\"Memory usage: {df.memory_usage(deep=True).sum() / 1024**2:.2f} MB\")\n",
        "\n",
        "print(\"\\n🔍 Data Types:\")\n",
        "print(df.dtypes)"
      ]
    },
    {
      "cell_type": "code",
      "execution_count": 5,
      "id": "b40c4936",
      "metadata": {},
      "outputs": [
        {
          "name": "stdout",
          "output_type": "stream",
          "text": [
            "👀 First 5 rows of the dataset:\n"
          ]
        },
        {
          "data": {
            "text/html": [
              "<div>\n",
              "<style scoped>\n",
              "    .dataframe tbody tr th:only-of-type {\n",
              "        vertical-align: middle;\n",
              "    }\n",
              "\n",
              "    .dataframe tbody tr th {\n",
              "        vertical-align: top;\n",
              "    }\n",
              "\n",
              "    .dataframe thead th {\n",
              "        text-align: right;\n",
              "    }\n",
              "</style>\n",
              "<table border=\"1\" class=\"dataframe\">\n",
              "  <thead>\n",
              "    <tr style=\"text-align: right;\">\n",
              "      <th></th>\n",
              "      <th>أحد</th>\n",
              "      <th>سبت</th>\n",
              "      <th>جمعة</th>\n",
              "      <th>خميس</th>\n",
              "      <th>اربعاء</th>\n",
              "      <th>ثلاثاء</th>\n",
              "      <th>إثنين</th>\n",
              "      <th>اتجاه السفرة</th>\n",
              "      <th>الكلم</th>\n",
              "      <th>المدة</th>\n",
              "      <th>...</th>\n",
              "      <th>ساعة الإنطلاق</th>\n",
              "      <th>محطة الانطلاق</th>\n",
              "      <th>نوع الخدمة</th>\n",
              "      <th>الموسم</th>\n",
              "      <th>السفرة</th>\n",
              "      <th>الخط</th>\n",
              "      <th>الفرع</th>\n",
              "      <th>المنطقة</th>\n",
              "      <th>Unnamed: 19</th>\n",
              "      <th>Unnamed: 20</th>\n",
              "    </tr>\n",
              "  </thead>\n",
              "  <tbody>\n",
              "    <tr>\n",
              "      <th>0</th>\n",
              "      <td>X</td>\n",
              "      <td>X</td>\n",
              "      <td>X</td>\n",
              "      <td>X</td>\n",
              "      <td>X</td>\n",
              "      <td>X</td>\n",
              "      <td>X</td>\n",
              "      <td>ذهاب</td>\n",
              "      <td>121.0</td>\n",
              "      <td>02:10</td>\n",
              "      <td>...</td>\n",
              "      <td>06:30</td>\n",
              "      <td>نابل</td>\n",
              "      <td>رفاهة</td>\n",
              "      <td>الصيفي</td>\n",
              "      <td>1.0</td>\n",
              "      <td>101-01</td>\n",
              "      <td>فرع نابل</td>\n",
              "      <td>المنطقة الجنوبية</td>\n",
              "      <td>NaN</td>\n",
              "      <td>NaN</td>\n",
              "    </tr>\n",
              "    <tr>\n",
              "      <th>1</th>\n",
              "      <td>X</td>\n",
              "      <td>X</td>\n",
              "      <td>X</td>\n",
              "      <td>X</td>\n",
              "      <td>X</td>\n",
              "      <td>X</td>\n",
              "      <td>X</td>\n",
              "      <td>إياب</td>\n",
              "      <td>121.0</td>\n",
              "      <td>02:15</td>\n",
              "      <td>...</td>\n",
              "      <td>10:00</td>\n",
              "      <td>نابل</td>\n",
              "      <td>رفاهة</td>\n",
              "      <td>الصيفي</td>\n",
              "      <td>2.0</td>\n",
              "      <td>101-01</td>\n",
              "      <td>فرع نابل</td>\n",
              "      <td>المنطقة الجنوبية</td>\n",
              "      <td>NaN</td>\n",
              "      <td>NaN</td>\n",
              "    </tr>\n",
              "    <tr>\n",
              "      <th>2</th>\n",
              "      <td>X</td>\n",
              "      <td>X</td>\n",
              "      <td>X</td>\n",
              "      <td>X</td>\n",
              "      <td>X</td>\n",
              "      <td>X</td>\n",
              "      <td>X</td>\n",
              "      <td>ذهاب</td>\n",
              "      <td>121.0</td>\n",
              "      <td>02:15</td>\n",
              "      <td>...</td>\n",
              "      <td>12:15</td>\n",
              "      <td>نابل</td>\n",
              "      <td>رفاهة</td>\n",
              "      <td>الصيفي</td>\n",
              "      <td>3.0</td>\n",
              "      <td>101-02</td>\n",
              "      <td>فرع نابل</td>\n",
              "      <td>المنطقة الجنوبية</td>\n",
              "      <td>NaN</td>\n",
              "      <td>NaN</td>\n",
              "    </tr>\n",
              "    <tr>\n",
              "      <th>3</th>\n",
              "      <td>X</td>\n",
              "      <td>X</td>\n",
              "      <td>X</td>\n",
              "      <td>X</td>\n",
              "      <td>X</td>\n",
              "      <td>X</td>\n",
              "      <td>X</td>\n",
              "      <td>إياب</td>\n",
              "      <td>121.0</td>\n",
              "      <td>02:15</td>\n",
              "      <td>...</td>\n",
              "      <td>16:30</td>\n",
              "      <td>نابل</td>\n",
              "      <td>رفاهة</td>\n",
              "      <td>الصيفي</td>\n",
              "      <td>4.0</td>\n",
              "      <td>101-02</td>\n",
              "      <td>فرع نابل</td>\n",
              "      <td>المنطقة الجنوبية</td>\n",
              "      <td>NaN</td>\n",
              "      <td>NaN</td>\n",
              "    </tr>\n",
              "    <tr>\n",
              "      <th>4</th>\n",
              "      <td>X</td>\n",
              "      <td>X</td>\n",
              "      <td>X</td>\n",
              "      <td>X</td>\n",
              "      <td>X</td>\n",
              "      <td>X</td>\n",
              "      <td>X</td>\n",
              "      <td>ذهاب</td>\n",
              "      <td>121.0</td>\n",
              "      <td>02:10</td>\n",
              "      <td>...</td>\n",
              "      <td>06:00</td>\n",
              "      <td>نابل</td>\n",
              "      <td>رفاهة</td>\n",
              "      <td>رمضان</td>\n",
              "      <td>5.0</td>\n",
              "      <td>101-01</td>\n",
              "      <td>فرع نابل</td>\n",
              "      <td>المنطقة الجنوبية</td>\n",
              "      <td>NaN</td>\n",
              "      <td>NaN</td>\n",
              "    </tr>\n",
              "  </tbody>\n",
              "</table>\n",
              "<p>5 rows × 21 columns</p>\n",
              "</div>"
            ],
            "text/plain": [
              "  أحد سبت جمعة خميس اربعاء ثلاثاء إثنين اتجاه السفرة  الكلم  المدة  ...  \\\n",
              "0   X   X    X    X      X      X     X         ذهاب  121.0  02:10  ...   \n",
              "1   X   X    X    X      X      X     X         إياب  121.0  02:15  ...   \n",
              "2   X   X    X    X      X      X     X         ذهاب  121.0  02:15  ...   \n",
              "3   X   X    X    X      X      X     X         إياب  121.0  02:15  ...   \n",
              "4   X   X    X    X      X      X     X         ذهاب  121.0  02:10  ...   \n",
              "\n",
              "  ساعة الإنطلاق محطة الانطلاق نوع الخدمة  الموسم السفرة    الخط     الفرع  \\\n",
              "0         06:30          نابل      رفاهة  الصيفي    1.0  101-01  فرع نابل   \n",
              "1         10:00          نابل      رفاهة  الصيفي    2.0  101-01  فرع نابل   \n",
              "2         12:15          نابل      رفاهة  الصيفي    3.0  101-02  فرع نابل   \n",
              "3         16:30          نابل      رفاهة  الصيفي    4.0  101-02  فرع نابل   \n",
              "4         06:00          نابل      رفاهة   رمضان    5.0  101-01  فرع نابل   \n",
              "\n",
              "            المنطقة Unnamed: 19  Unnamed: 20  \n",
              "0  المنطقة الجنوبية         NaN          NaN  \n",
              "1  المنطقة الجنوبية         NaN          NaN  \n",
              "2  المنطقة الجنوبية         NaN          NaN  \n",
              "3  المنطقة الجنوبية         NaN          NaN  \n",
              "4  المنطقة الجنوبية         NaN          NaN  \n",
              "\n",
              "[5 rows x 21 columns]"
            ]
          },
          "execution_count": 5,
          "metadata": {},
          "output_type": "execute_result"
        }
      ],
      "source": [
        "# Display first few rows to understand the data structure\n",
        "print(\"👀 First 5 rows of the dataset:\")\n",
        "df.head()"
      ]
    },
    {
      "cell_type": "code",
      "execution_count": 6,
      "id": "88df255e",
      "metadata": {},
      "outputs": [
        {
          "name": "stdout",
          "output_type": "stream",
          "text": [
            "🔍 Missing Values Analysis:\n",
            "       Column  Missing Count  Missing Percentage\n",
            "  Unnamed: 19           1561          100.000000\n",
            "  Unnamed: 20           1560           99.935939\n",
            "          أحد           1004           64.317745\n",
            "          سبت            170           10.890455\n",
            "       اربعاء            102            6.534273\n",
            "         خميس            100            6.406150\n",
            "        إثنين             93            5.957719\n",
            "         جمعة             72            4.612428\n",
            "       ثلاثاء             63            4.035874\n",
            "        المدة             19            1.217168\n",
            "  محطة الوصول             19            1.217168\n",
            " اتجاه السفرة             19            1.217168\n",
            "        الكلم             19            1.217168\n",
            "محطة الانطلاق             19            1.217168\n",
            "ساعة الإنطلاق             19            1.217168\n",
            "   نوع الخدمة             19            1.217168\n",
            "       الموسم             19            1.217168\n",
            "         الخط             19            1.217168\n",
            "       السفرة             19            1.217168\n",
            "      المنطقة             19            1.217168\n",
            "        الفرع             19            1.217168\n"
          ]
        }
      ],
      "source": [
        "# Check for missing values\n",
        "print(\"🔍 Missing Values Analysis:\")\n",
        "missing_data = df.isnull().sum()\n",
        "missing_percentage = (missing_data / len(df)) * 100\n",
        "\n",
        "missing_df = pd.DataFrame({\n",
        "    'Column': missing_data.index,\n",
        "    'Missing Count': missing_data.values,\n",
        "    'Missing Percentage': missing_percentage.values\n",
        "})\n",
        "\n",
        "missing_df = missing_df[missing_df['Missing Count'] > 0].sort_values('Missing Count', ascending=False)\n",
        "\n",
        "if len(missing_df) > 0:\n",
        "    print(missing_df.to_string(index=False))\n",
        "else:\n",
        "    print(\"✅ No missing values found!\")"
      ]
    },
    {
      "cell_type": "markdown",
      "id": "2c174bf1",
      "metadata": {},
      "source": [
        "## 3. 🧹 Data Cleaning\n",
        "\n",
        "Now let's clean our data by removing unnecessary columns and handling any data quality issues."
      ]
    },
    {
      "cell_type": "code",
      "execution_count": 7,
      "id": "07929b5f",
      "metadata": {},
      "outputs": [
        {
          "name": "stdout",
          "output_type": "stream",
          "text": [
            "📋 Original dataset backed up with shape: (1561, 21)\n",
            "🗑️ Dropped columns: ['Unnamed: 19', 'Unnamed: 20']\n",
            "📊 Dataset shape after dropping columns: (1561, 19)\n"
          ]
        }
      ],
      "source": [
        "# Create a copy of the original data for backup\n",
        "df_original = df.copy()\n",
        "print(f\"📋 Original dataset backed up with shape: {df_original.shape}\")\n",
        "\n",
        "# Drop empty columns if they exist\n",
        "columns_to_drop = ['Unnamed: 19', 'Unnamed: 20']\n",
        "existing_columns_to_drop = [col for col in columns_to_drop if col in df.columns]\n",
        "\n",
        "if existing_columns_to_drop:\n",
        "    df.drop(columns=existing_columns_to_drop, inplace=True)\n",
        "    print(f\"🗑️ Dropped columns: {existing_columns_to_drop}\")\n",
        "else:\n",
        "    print(\"ℹ️ No 'Unnamed' columns found to drop\")\n",
        "\n",
        "print(f\"📊 Dataset shape after dropping columns: {df.shape}\")"
      ]
    },
    {
      "cell_type": "code",
      "execution_count": 8,
      "id": "4d0bc406",
      "metadata": {},
      "outputs": [
        {
          "name": "stdout",
          "output_type": "stream",
          "text": [
            "🧹 Cleaning whitespace from 17 text columns...\n",
            "✅ Whitespace trimmed from all text columns\n"
          ]
        }
      ],
      "source": [
        "# Trim whitespace from all text columns\n",
        "text_columns = df.select_dtypes(include=['object']).columns\n",
        "print(f\"🧹 Cleaning whitespace from {len(text_columns)} text columns...\")\n",
        "\n",
        "for col in text_columns:\n",
        "    df[col] = df[col].astype(str).str.strip()\n",
        "\n",
        "print(\"✅ Whitespace trimmed from all text columns\")"
      ]
    },
    {
      "cell_type": "markdown",
      "id": "ab11acd4",
      "metadata": {},
      "source": [
        "## 4. 🔧 Feature Engineering\n",
        "\n",
        "Let's create useful features from our raw data, especially focusing on time-related columns."
      ]
    },
    {
      "cell_type": "code",
      "execution_count": 9,
      "id": "f4dc25a9",
      "metadata": {},
      "outputs": [
        {
          "name": "stdout",
          "output_type": "stream",
          "text": [
            "✅ Time conversion functions defined\n"
          ]
        }
      ],
      "source": [
        "# Define helper functions for time conversion\n",
        "def convert_duration_to_minutes(time_obj):\n",
        "    \"\"\"\n",
        "    Convert duration from various formats to minutes (integer).\n",
        "    Handles: HH:MM strings, time objects, integers, floats\n",
        "    \"\"\"\n",
        "    if pd.isna(time_obj): \n",
        "        return None\n",
        "    \n",
        "    # Handle string format\n",
        "    if isinstance(time_obj, str):\n",
        "        time_obj = time_obj.strip()\n",
        "        try:\n",
        "            # Handle HH:MM format\n",
        "            if ':' in time_obj:\n",
        "                parts = time_obj.split(':')\n",
        "                if len(parts) == 2:\n",
        "                    h, m = map(int, parts)\n",
        "                    return h * 60 + m\n",
        "            # Handle integer format (minutes)\n",
        "            elif time_obj.isdigit():\n",
        "                return int(time_obj)\n",
        "            return None\n",
        "        except (ValueError, AttributeError):\n",
        "            return None\n",
        "            \n",
        "    # Handle datetime/time objects\n",
        "    elif hasattr(time_obj, 'hour') and hasattr(time_obj, 'minute'):\n",
        "        return time_obj.hour * 60 + time_obj.minute\n",
        "        \n",
        "    # Handle numeric types\n",
        "    elif isinstance(time_obj, (int, float)):\n",
        "        return int(time_obj)\n",
        "        \n",
        "    return None\n",
        "\n",
        "def convert_time_to_minutes(time_obj):\n",
        "    \"\"\"\n",
        "    Convert time from various formats to minutes from midnight.\n",
        "    Same logic as duration converter.\n",
        "    \"\"\"\n",
        "    return convert_duration_to_minutes(time_obj)\n",
        "\n",
        "print(\"✅ Time conversion functions defined\")"
      ]
    },
    {
      "cell_type": "code",
      "execution_count": 10,
      "id": "b53987e6",
      "metadata": {},
      "outputs": [
        {
          "name": "stdout",
          "output_type": "stream",
          "text": [
            "🕐 Converting duration column to minutes...\n",
            "\n",
            "📋 Sample duration values before conversion:\n",
            " 1. 02:10 (type: str)\n",
            " 2. 02:15 (type: str)\n",
            " 3. 02:15 (type: str)\n",
            " 4. 02:15 (type: str)\n",
            " 5. 02:10 (type: str)\n",
            " 6. 02:15 (type: str)\n",
            " 7. 02:15 (type: str)\n",
            " 8. 02:15 (type: str)\n",
            " 9. nan (type: str)\n",
            "10. 00:10 (type: str)\n",
            "\n",
            "✅ Duration converted to 'durée_min' column\n",
            "📊 Valid duration values: 1530/1561\n",
            "\n",
            "📋 Sample converted values:\n",
            "المدة  durée_min\n",
            "02:10      130.0\n",
            "02:15      135.0\n",
            "02:15      135.0\n",
            "02:15      135.0\n",
            "02:10      130.0\n"
          ]
        }
      ],
      "source": [
        "# Convert duration column (المدة) to minutes\n",
        "print(\"🕐 Converting duration column to minutes...\")\n",
        "\n",
        "if 'المدة' in df.columns:\n",
        "    # Show some examples before conversion\n",
        "    print(\"\\n📋 Sample duration values before conversion:\")\n",
        "    sample_durations = df['المدة'].dropna().head(10)\n",
        "    for i, val in enumerate(sample_durations, 1):\n",
        "        print(f\"{i:2d}. {val} (type: {type(val).__name__})\")\n",
        "    \n",
        "    # Apply conversion\n",
        "    df['durée_min'] = df['المدة'].apply(convert_duration_to_minutes)\n",
        "    \n",
        "    # Show results\n",
        "    print(f\"\\n✅ Duration converted to 'durée_min' column\")\n",
        "    print(f\"📊 Valid duration values: {df['durée_min'].notna().sum()}/{len(df)}\")\n",
        "    \n",
        "    # Show some examples after conversion\n",
        "    print(\"\\n📋 Sample converted values:\")\n",
        "    valid_durations = df[df['durée_min'].notna()][['المدة', 'durée_min']].head(5)\n",
        "    print(valid_durations.to_string(index=False))\n",
        "else:\n",
        "    print(\"⚠️ Duration column 'المدة' not found in dataset\")"
      ]
    },
    {
      "cell_type": "code",
      "execution_count": 11,
      "id": "95e3f7b4",
      "metadata": {},
      "outputs": [
        {
          "name": "stdout",
          "output_type": "stream",
          "text": [
            "🕐 Converting departure time column to minutes from midnight...\n",
            "\n",
            "📋 Sample departure time values before conversion:\n",
            " 1. 06:30 (type: str)\n",
            " 2. 10:00 (type: str)\n",
            " 3. 12:15 (type: str)\n",
            " 4. 16:30 (type: str)\n",
            " 5. 06:00 (type: str)\n",
            " 6. 09:30 (type: str)\n",
            " 7. 12:15 (type: str)\n",
            " 8. 16:30 (type: str)\n",
            " 9. nan (type: str)\n",
            "10. 05:30 (type: str)\n",
            "\n",
            "✅ Departure time converted to 'depart_min' column\n",
            "📊 Valid departure time values: 1530/1561\n",
            "\n",
            "📋 Sample converted values:\n",
            "ساعة الإنطلاق  depart_min\n",
            "        06:30       390.0\n",
            "        10:00       600.0\n",
            "        12:15       735.0\n",
            "        16:30       990.0\n",
            "        06:00       360.0\n"
          ]
        }
      ],
      "source": [
        "# Convert departure time column (ساعة الإنطلاق) to minutes from midnight\n",
        "print(\"🕐 Converting departure time column to minutes from midnight...\")\n",
        "\n",
        "if 'ساعة الإنطلاق' in df.columns:\n",
        "    # Show some examples before conversion\n",
        "    print(\"\\n📋 Sample departure time values before conversion:\")\n",
        "    sample_times = df['ساعة الإنطلاق'].dropna().head(10)\n",
        "    for i, val in enumerate(sample_times, 1):\n",
        "        print(f\"{i:2d}. {val} (type: {type(val).__name__})\")\n",
        "    \n",
        "    # Apply conversion\n",
        "    df['depart_min'] = df['ساعة الإنطلاق'].apply(convert_time_to_minutes)\n",
        "    \n",
        "    # Show results\n",
        "    print(f\"\\n✅ Departure time converted to 'depart_min' column\")\n",
        "    print(f\"📊 Valid departure time values: {df['depart_min'].notna().sum()}/{len(df)}\")\n",
        "    \n",
        "    # Show some examples after conversion\n",
        "    print(\"\\n📋 Sample converted values:\")\n",
        "    valid_times = df[df['depart_min'].notna()][['ساعة الإنطلاق', 'depart_min']].head(5)\n",
        "    print(valid_times.to_string(index=False))\n",
        "else:\n",
        "    print(\"⚠️ Departure time column 'ساعة الإنطلاق' not found in dataset\")"
      ]
    },
    {
      "cell_type": "code",
      "execution_count": 12,
      "id": "e3107fe7",
      "metadata": {},
      "outputs": [
        {
          "name": "stdout",
          "output_type": "stream",
          "text": [
            "🔍 Data Quality Check After Time Conversions:\n",
            "\n",
            "📊 Null values in time columns:\n",
            "   durée_min nulls: 31 (2.0%)\n",
            "   depart_min nulls: 31 (2.0%)\n",
            "\n",
            "📈 Total rows before cleaning: 1,561\n",
            "📉 Rows after dropping null time values: 1,518\n",
            "✅ Time columns converted to integers\n"
          ]
        }
      ],
      "source": [
        "# Check data quality after time conversions\n",
        "print(\"🔍 Data Quality Check After Time Conversions:\")\n",
        "print(f\"\\n📊 Null values in time columns:\")\n",
        "if 'durée_min' in df.columns:\n",
        "    print(f\"   durée_min nulls: {df['durée_min'].isnull().sum():,} ({df['durée_min'].isnull().mean()*100:.1f}%)\")\n",
        "if 'depart_min' in df.columns:\n",
        "    print(f\"   depart_min nulls: {df['depart_min'].isnull().sum():,} ({df['depart_min'].isnull().mean()*100:.1f}%)\")\n",
        "\n",
        "print(f\"\\n📈 Total rows before cleaning: {len(df):,}\")\n",
        "\n",
        "# Drop rows where time conversion failed\n",
        "time_columns = ['durée_min', 'depart_min']\n",
        "existing_time_columns = [col for col in time_columns if col in df.columns]\n",
        "\n",
        "if existing_time_columns:\n",
        "    df.dropna(subset=existing_time_columns, inplace=True)\n",
        "    print(f\"📉 Rows after dropping null time values: {len(df):,}\")\n",
        "    \n",
        "    # Convert to integers and handle any remaining issues\n",
        "    for col in existing_time_columns:\n",
        "        df[col] = pd.to_numeric(df[col], errors='coerce').fillna(0).astype(int)\n",
        "    \n",
        "    print(\"✅ Time columns converted to integers\")\n",
        "else:\n",
        "    print(\"⚠️ No time columns found for cleaning\")"
      ]
    },
    {
      "cell_type": "code",
      "execution_count": 15,
      "id": "425547fb",
      "metadata": {},
      "outputs": [
        {
          "name": "stdout",
          "output_type": "stream",
          "text": [
            "📊 Final dataset shape after time processing: (1518, 19)\n"
          ]
        }
      ],
      "source": [
        "# Drop original time columns to avoid confusion\n",
        "original_time_cols = ['المدة', 'ساعة الإنطلاق']\n",
        "existing_original_cols = [col for col in original_time_cols if col in df.columns]\n",
        "\n",
        "if existing_original_cols:\n",
        "    df.drop(columns=existing_original_cols, inplace=True)\n",
        "    print(f\"🗑️ Dropped original time columns: {existing_original_cols}\")\n",
        "\n",
        "print(f\"📊 Final dataset shape after time processing: {df.shape}\")"
      ]
    },
    {
      "cell_type": "markdown",
      "id": "755f6d20",
      "metadata": {},
      "source": [
        "## 5. 📊 Data Visualization and Analysis\n",
        "\n",
        "Let's explore our cleaned data with some visualizations to better understand the patterns."
      ]
    },
    {
      "cell_type": "code",
      "execution_count": 16,
      "id": "acc3fd09",
      "metadata": {},
      "outputs": [
        {
          "data": {
            "image/png": "[encoded data removed]",
            "text/plain": [
              "<Figure size 1500x1000 with 4 Axes>"
            ]
          },
          "metadata": {},
          "output_type": "display_data"
        },
        {
          "name": "stdout",
          "output_type": "stream",
          "text": [
            "📈 Data visualization complete!\n"
          ]
        }
      ],
      "source": [
        "# Create visualizations of the time data\n",
        "fig, axes = plt.subplots(2, 2, figsize=(15, 10))\n",
        "fig.suptitle('🚌 Bus Schedule Analysis', fontsize=16, fontweight='bold')\n",
        "\n",
        "# Duration distribution\n",
        "if 'durée_min' in df.columns:\n",
        "    axes[0, 0].hist(df['durée_min'], bins=30, alpha=0.7, color='skyblue', edgecolor='black')\n",
        "    axes[0, 0].set_title('Distribution of Trip Durations')\n",
        "    axes[0, 0].set_xlabel('Duration (minutes)')\n",
        "    axes[0, 0].set_ylabel('Frequency')\n",
        "    axes[0, 0].grid(True, alpha=0.3)\n",
        "\n",
        "# Departure time distribution\n",
        "if 'depart_min' in df.columns:\n",
        "    # Convert minutes back to hours for better readability\n",
        "    departure_hours = df['depart_min'] / 60\n",
        "    axes[0, 1].hist(departure_hours, bins=24, alpha=0.7, color='lightgreen', edgecolor='black')\n",
        "    axes[0, 1].set_title('Distribution of Departure Times')\n",
        "    axes[0, 1].set_xlabel('Hour of Day')\n",
        "    axes[0, 1].set_ylabel('Number of Departures')\n",
        "    axes[0, 1].grid(True, alpha=0.3)\n",
        "\n",
        "# Route analysis\n",
        "if 'محطة الانطلاق' in df.columns:\n",
        "    top_origins = df['محطة الانطلاق'].value_counts().head(10)\n",
        "    axes[1, 0].barh(range(len(top_origins)), top_origins.values, color='coral')\n",
        "    axes[1, 0].set_yticks(range(len(top_origins)))\n",
        "    axes[1, 0].set_yticklabels(top_origins.index, fontsize=8)\n",
        "    axes[1, 0].set_title('Top 10 Origin Stations')\n",
        "    axes[1, 0].set_xlabel('Number of Routes')\n",
        "\n",
        "# Service type analysis\n",
        "if 'نوع الخدمة' in df.columns:\n",
        "    service_counts = df['نوع الخدمة'].value_counts()\n",
        "    axes[1, 1].pie(service_counts.values, labels=service_counts.index, autopct='%1.1f%%', startangle=90)\n",
        "    axes[1, 1].set_title('Distribution of Service Types')\n",
        "\n",
        "plt.tight_layout()\n",
        "plt.show()\n",
        "\n",
        "print(\"📈 Data visualization complete!\")"
      ]
    },
    {
      "cell_type": "markdown",
      "id": "1625217d",
      "metadata": {},
      "source": [
        "## 6. 🎯 Creating the Target Variable\n",
        "\n",
        "For our recommendation system, we need to create a target variable that represents the 'best' trip for each route. We'll define the best trip as the one with the shortest duration for each origin-destination pair on each day."
      ]
    },
    {
      "cell_type": "code",
      "execution_count": 17,
      "id": "70639aab",
      "metadata": {},
      "outputs": [
        {
          "name": "stdout",
          "output_type": "stream",
          "text": [
            "📅 Day Columns Analysis:\n",
            "Expected day columns: ['إثنين', 'ثلاثاء', 'اربعاء', 'خميس', 'جمعة', 'سبت', 'أحد']\n",
            "Found day columns: ['إثنين', 'ثلاثاء', 'اربعاء', 'خميس', 'جمعة', 'سبت', 'أحد']\n",
            "\n",
            "📊 Day column statistics:\n",
            "   إثنين: 1518 non-null values\n",
            "   ثلاثاء: 1518 non-null values\n",
            "   اربعاء: 1518 non-null values\n",
            "   خميس: 1518 non-null values\n",
            "   جمعة: 1518 non-null values\n",
            "   سبت: 1518 non-null values\n",
            "   أحد: 1518 non-null values\n"
          ]
        }
      ],
      "source": [
        "# First, let's examine the day columns\n",
        "day_cols = ['إثنين', 'ثلاثاء', 'اربعاء', 'خميس', 'جمعة', 'سبت', 'أحد']\n",
        "existing_day_cols = [col for col in day_cols if col in df.columns]\n",
        "\n",
        "print(\"📅 Day Columns Analysis:\")\n",
        "print(f\"Expected day columns: {day_cols}\")\n",
        "print(f\"Found day columns: {existing_day_cols}\")\n",
        "\n",
        "if existing_day_cols:\n",
        "    print(\"\\n📊 Day column statistics:\")\n",
        "    for day in existing_day_cols:\n",
        "        non_null_count = df[day].notna().sum()\n",
        "        print(f\"   {day}: {non_null_count} non-null values\")\n",
        "else:\n",
        "    print(\"\\n⚠️ No day columns found - will assume all trips run every day\")"
      ]
    },
    {
      "cell_type": "code",
      "execution_count": 18,
      "id": "964283ef",
      "metadata": {},
      "outputs": [
        {
          "name": "stdout",
          "output_type": "stream",
          "text": [
            "🔄 Expanding dataset to include day-of-week information...\n",
            "📊 Original dataset shape: (1518, 19)\n",
            "📊 Expanded dataset shape: (10626, 21)\n",
            "✅ Dataset expanded to include all 7 days of the week\n"
          ]
        }
      ],
      "source": [
        "# Create expanded dataset with day information\n",
        "print(\"🔄 Expanding dataset to include day-of-week information...\")\n",
        "\n",
        "# Since day columns appear to be empty, we'll treat all trips as active every day\n",
        "all_trips = []\n",
        "for day in day_cols:\n",
        "    df_day = df.copy()\n",
        "    df_day['jour_semaine'] = day\n",
        "    df_day['is_active'] = 'X'  # Mark all trips as active\n",
        "    all_trips.append(df_day)\n",
        "\n",
        "# Combine all days\n",
        "df_expanded = pd.concat(all_trips, ignore_index=True)\n",
        "\n",
        "print(f\"📊 Original dataset shape: {df.shape}\")\n",
        "print(f\"📊 Expanded dataset shape: {df_expanded.shape}\")\n",
        "print(f\"✅ Dataset expanded to include all {len(day_cols)} days of the week\")\n",
        "\n",
        "# Update our working dataframe\n",
        "df = df_expanded"
      ]
    },
    {
      "cell_type": "code",
      "execution_count": 19,
      "id": "41fbeaf3",
      "metadata": {},
      "outputs": [
        {
          "name": "stdout",
          "output_type": "stream",
          "text": [
            "🎯 Creating target variable 'is_best_trip'...\n",
            "\n",
            "📊 Target Variable Statistics:\n",
            "   Best trips (1): 6,951 (65.4%)\n",
            "   Other trips (0): 3,675 (34.6%)\n",
            "\n",
            "✅ Target variable 'is_best_trip' created successfully!\n",
            "\n",
            "📊 Target Variable Statistics:\n",
            "   Best trips (1): 6,951 (65.4%)\n",
            "   Other trips (0): 3,675 (34.6%)\n",
            "\n",
            "✅ Target variable 'is_best_trip' created successfully!\n"
          ]
        }
      ],
      "source": [
        "# Create the target variable: 'is_best_trip'\n",
        "print(\"🎯 Creating target variable 'is_best_trip'...\")\n",
        "\n",
        "if all(col in df.columns for col in ['محطة الانطلاق', 'محطة الوصول', 'jour_semaine', 'durée_min']):\n",
        "    # For each route (origin-destination) and day, mark the trip with minimum duration as 'best'\n",
        "    df['is_best_trip'] = df.groupby(['محطة الانطلاق', 'محطة الوصول', 'jour_semaine'])['durée_min'].transform(\n",
        "        lambda x: (x == x.min()).astype(int)\n",
        "    )\n",
        "    \n",
        "    # Show statistics about the target variable\n",
        "    target_stats = df['is_best_trip'].value_counts()\n",
        "    print(f\"\\n📊 Target Variable Statistics:\")\n",
        "    print(f\"   Best trips (1): {target_stats.get(1, 0):,} ({target_stats.get(1, 0)/len(df)*100:.1f}%)\")\n",
        "    print(f\"   Other trips (0): {target_stats.get(0, 0):,} ({target_stats.get(0, 0)/len(df)*100:.1f}%)\")\n",
        "    \n",
        "    print(\"\\n✅ Target variable 'is_best_trip' created successfully!\")\n",
        "else:\n",
        "    print(\"❌ Required columns for target creation not found\")\n",
        "    missing_cols = [col for col in ['محطة الانطلاق', 'محطة الوصول', 'jour_semaine', 'durée_min'] if col not in df.columns]\n",
        "    print(f\"Missing columns: {missing_cols}\")"
      ]
    },
    {
      "cell_type": "code",
      "execution_count": 21,
      "id": "1a15dfbf",
      "metadata": {},
      "outputs": [
        {
          "name": "stdout",
          "output_type": "stream",
          "text": [
            "🏆 Examples of Best Trips:\n",
            "   محطة الانطلاق      محطة الوصول jour_semaine  depart_min  durée_min\n",
            "            نابل         القيروان        إثنين         390        130\n",
            "            نابل         القيروان        إثنين         360        130\n",
            "     نابل الورشة دار شعبان الفهري        إثنين         330         10\n",
            "دار شعبان الفهري             تونس        إثنين         345         70\n",
            "            تونس     الحي الجامعي        إثنين         420         75\n",
            "    الحي الجامعي             نابل        إثنين         495         15\n",
            "            نابل             تونس        إثنين         540         60\n",
            "            نابل             تونس        إثنين         630         60\n",
            "            نابل             تونس        إثنين         720         60\n",
            "            نابل             تونس        إثنين         990         60\n",
            "\n",
            "📊 Final dataset shape: (10626, 22)\n"
          ]
        }
      ],
      "source": [
        "# Show some examples of the best trips\n",
        "if 'is_best_trip' in df.columns:\n",
        "    print(\"🏆 Examples of Best Trips:\")\n",
        "    best_trips_sample = df[df['is_best_trip'] == 1].head(10)\n",
        "    \n",
        "    display_cols = ['محطة الانطلاق', 'محطة الوصول', 'jour_semaine', 'depart_min', 'durée_min']\n",
        "    available_display_cols = [col for col in display_cols if col in df.columns]\n",
        "    \n",
        "    if available_display_cols:\n",
        "        print(best_trips_sample[available_display_cols].to_string(index=False))\n",
        "    else:\n",
        "        print(\"Display columns not available\")\n",
        "\n",
        "print(f\"\\n📊 Final dataset shape: {df.shape}\")"
      ]
    },
    {
      "cell_type": "markdown",
      "id": "6190a90d",
      "metadata": {},
      "source": [
        "## 7. 🤖 Machine Learning Model Preparation\n",
        "\n",
        "Now let's prepare our features and train a machine learning model to predict the best trips."
      ]
    },
    {
      "cell_type": "code",
      "execution_count": 22,
      "id": "8f1f5e9f",
      "metadata": {},
      "outputs": [
        {
          "name": "stdout",
          "output_type": "stream",
          "text": [
            "🔧 Preparing features for machine learning...\n",
            "✅ Combined 'الفرع' and 'المنطقة' columns\n",
            "\n",
            "📋 Feature Analysis:\n",
            "   Available features (11): ['depart_min', 'durée_min', 'الكلم', 'محطة الانطلاق', 'محطة الوصول', 'اتجاه السفرة', 'نوع الخدمة', 'الموسم', 'الخط', 'الفرع / المنطقة', 'jour_semaine']\n",
            "\n",
            "✅ Using 11 features for modeling\n"
          ]
        }
      ],
      "source": [
        "# Prepare features for modeling\n",
        "print(\"🔧 Preparing features for machine learning...\")\n",
        "\n",
        "# Combine branch and region columns if they exist\n",
        "if 'الفرع' in df.columns and 'المنطقة' in df.columns:\n",
        "    df['الفرع / المنطقة'] = df['الفرع'].fillna('') + ' / ' + df['المنطقة'].fillna('')\n",
        "    print(\"✅ Combined 'الفرع' and 'المنطقة' columns\")\n",
        "\n",
        "# Define potential features\n",
        "potential_features = [\n",
        "    'depart_min', 'durée_min', 'الكلم', 'محطة الانطلاق', 'محطة الوصول',\n",
        "    'اتجاه السفرة', 'نوع الخدمة', 'الموسم', 'الخط', 'الفرع / المنطقة',\n",
        "    'jour_semaine'\n",
        "]\n",
        "\n",
        "# Check which features actually exist in our dataset\n",
        "available_features = [f for f in potential_features if f in df.columns]\n",
        "missing_features = [f for f in potential_features if f not in df.columns]\n",
        "\n",
        "print(f\"\\n📋 Feature Analysis:\")\n",
        "print(f\"   Available features ({len(available_features)}): {available_features}\")\n",
        "if missing_features:\n",
        "    print(f\"   Missing features ({len(missing_features)}): {missing_features}\")\n",
        "\n",
        "# Use only available features\n",
        "features_to_use = available_features\n",
        "print(f\"\\n✅ Using {len(features_to_use)} features for modeling\")"
      ]
    },
    {
      "cell_type": "code",
      "execution_count": 23,
      "id": "62c7055a",
      "metadata": {},
      "outputs": [
        {
          "name": "stdout",
          "output_type": "stream",
          "text": [
            "📊 Dataset ready for modeling:\n",
            "   Total samples: 10,626\n",
            "   Features: 11\n",
            "   Target variable: is_best_trip\n",
            "\n",
            "📈 Feature matrix shape: (10626, 11)\n",
            "📈 Target vector shape: (10626,)\n",
            "\n",
            "⚖️ Class Distribution:\n",
            "   Class 1: 0.654 (65.4%)\n",
            "   Class 0: 0.346 (34.6%)\n"
          ]
        }
      ],
      "source": [
        "# Check if we have enough data for modeling\n",
        "if df.empty or 'is_best_trip' not in df.columns:\n",
        "    print(\"❌ Error: Dataset is empty or target variable missing. Cannot proceed with modeling.\")\n",
        "else:\n",
        "    print(f\"📊 Dataset ready for modeling:\")\n",
        "    print(f\"   Total samples: {len(df):,}\")\n",
        "    print(f\"   Features: {len(features_to_use)}\")\n",
        "    print(f\"   Target variable: is_best_trip\")\n",
        "    \n",
        "    # Prepare X and y\n",
        "    X = df[features_to_use]\n",
        "    y = df['is_best_trip']\n",
        "    \n",
        "    print(f\"\\n📈 Feature matrix shape: {X.shape}\")\n",
        "    print(f\"📈 Target vector shape: {y.shape}\")\n",
        "    \n",
        "    # Check for class imbalance\n",
        "    class_distribution = y.value_counts(normalize=True)\n",
        "    print(f\"\\n⚖️ Class Distribution:\")\n",
        "    for class_val, proportion in class_distribution.items():\n",
        "        print(f\"   Class {class_val}: {proportion:.3f} ({proportion*100:.1f}%)\")"
      ]
    },
    {
      "cell_type": "code",
      "execution_count": 24,
      "id": "54807c0e",
      "metadata": {},
      "outputs": [
        {
          "name": "stdout",
          "output_type": "stream",
          "text": [
            "🔢 Feature Types:\n",
            "   Categorical features (8): ['محطة الانطلاق', 'محطة الوصول', 'اتجاه السفرة', 'نوع الخدمة', 'الموسم', 'الخط', 'الفرع / المنطقة', 'jour_semaine']\n",
            "   Numerical features (3): ['depart_min', 'durée_min', 'الكلم']\n",
            "\n",
            "📊 Numerical Features Statistics:\n",
            "         depart_min     durée_min         الكلم\n",
            "count  10626.000000  10626.000000  10626.000000\n",
            "mean     728.144928     41.188406     24.762846\n",
            "std      253.049811     41.038806     26.259713\n",
            "min      270.000000      5.000000      2.000000\n",
            "25%      480.000000     15.000000      6.000000\n",
            "50%      750.000000     27.000000     11.000000\n",
            "75%      955.000000     60.000000     26.000000\n",
            "max     1335.000000    900.000000    121.000000\n"
          ]
        }
      ],
      "source": [
        "# Identify categorical and numerical features\n",
        "categorical_features = X.select_dtypes(include=['object', 'category']).columns.tolist()\n",
        "numerical_features = X.select_dtypes(include=['int64', 'float64']).columns.tolist()\n",
        "\n",
        "print(f\"🔢 Feature Types:\")\n",
        "print(f\"   Categorical features ({len(categorical_features)}): {categorical_features}\")\n",
        "print(f\"   Numerical features ({len(numerical_features)}): {numerical_features}\")\n",
        "\n",
        "# Show some statistics for numerical features\n",
        "if numerical_features:\n",
        "    print(f\"\\n📊 Numerical Features Statistics:\")\n",
        "    print(X[numerical_features].describe())"
      ]
    },
    {
      "cell_type": "code",
      "execution_count": 25,
      "id": "2fe4094e",
      "metadata": {},
      "outputs": [
        {
          "name": "stdout",
          "output_type": "stream",
          "text": [
            "🔄 Splitting data into training and testing sets...\n",
            "✅ Data split successfully:\n",
            "   Training set: 8,500 samples\n",
            "   Testing set: 2,126 samples\n",
            "   Test size: 20.0%\n",
            "\n",
            "📊 Class distribution in training set:\n",
            "   Class 1: 0.654\n",
            "   Class 0: 0.346\n"
          ]
        }
      ],
      "source": [
        "# Split the data into training and testing sets\n",
        "print(\"🔄 Splitting data into training and testing sets...\")\n",
        "\n",
        "try:\n",
        "    X_train, X_test, y_train, y_test = train_test_split(\n",
        "        X, y, test_size=0.2, random_state=42, stratify=y\n",
        "    )\n",
        "    \n",
        "    print(f\"✅ Data split successfully:\")\n",
        "    print(f\"   Training set: {X_train.shape[0]:,} samples\")\n",
        "    print(f\"   Testing set: {X_test.shape[0]:,} samples\")\n",
        "    print(f\"   Test size: {X_test.shape[0]/len(X)*100:.1f}%\")\n",
        "    \n",
        "    # Check class distribution in splits\n",
        "    print(f\"\\n📊 Class distribution in training set:\")\n",
        "    train_dist = y_train.value_counts(normalize=True)\n",
        "    for class_val, prop in train_dist.items():\n",
        "        print(f\"   Class {class_val}: {prop:.3f}\")\n",
        "        \n",
        "except ValueError as e:\n",
        "    print(f\"❌ Error splitting data: {e}\")\n",
        "    print(\"This might happen if there's insufficient data or class imbalance issues.\")"
      ]
    },
    {
      "cell_type": "markdown",
      "id": "a50d3854",
      "metadata": {},
      "source": [
        "## 8. 🏗️ Model Training\n",
        "\n",
        "Let's create and train our Random Forest model with proper preprocessing for categorical variables."
      ]
    },
    {
      "cell_type": "code",
      "execution_count": 26,
      "id": "dfa07cec",
      "metadata": {},
      "outputs": [
        {
          "name": "stdout",
          "output_type": "stream",
          "text": [
            "🔧 Creating preprocessing pipeline...\n",
            "✅ Preprocessor created for 8 categorical features\n",
            "✅ Model pipeline created with Random Forest classifier\n"
          ]
        }
      ],
      "source": [
        "# Create preprocessing pipeline\n",
        "print(\"🔧 Creating preprocessing pipeline...\")\n",
        "\n",
        "if categorical_features:\n",
        "    # Create preprocessor for categorical features\n",
        "    preprocessor = ColumnTransformer(\n",
        "        transformers=[\n",
        "            ('cat', OneHotEncoder(handle_unknown='ignore'), categorical_features)\n",
        "        ],\n",
        "        remainder='passthrough'  # Keep numerical features as-is\n",
        "    )\n",
        "    print(f\"✅ Preprocessor created for {len(categorical_features)} categorical features\")\n",
        "else:\n",
        "    # If no categorical features, use passthrough\n",
        "    preprocessor = 'passthrough'\n",
        "    print(\"ℹ️ No categorical features found, using passthrough preprocessor\")\n",
        "\n",
        "# Create the model pipeline\n",
        "model = Pipeline(steps=[\n",
        "    ('preprocessor', preprocessor),\n",
        "    ('classifier', RandomForestClassifier(\n",
        "        random_state=42, \n",
        "        n_estimators=100, \n",
        "        class_weight='balanced',  # Handle class imbalance\n",
        "        max_depth=10,  # Prevent overfitting\n",
        "        min_samples_split=5,\n",
        "        min_samples_leaf=2\n",
        "    ))\n",
        "])\n",
        "\n",
        "print(\"✅ Model pipeline created with Random Forest classifier\")"
      ]
    },
    {
      "cell_type": "code",
      "execution_count": 27,
      "id": "0ca8ae1d",
      "metadata": {},
      "outputs": [
        {
          "name": "stdout",
          "output_type": "stream",
          "text": [
            "🚀 Training the model...\n",
            "✅ Model training completed successfully!\n",
            "\n",
            "📊 Model trained with 234 features\n",
            "\n",
            "🏆 Top 5 Most Important Features:\n",
            "                      feature  importance\n",
            "         remainder__durée_min    0.241899\n",
            "             remainder__الكلم    0.104548\n",
            "cat__محطة الوصول_الحي الجامعي    0.048094\n",
            "      cat__محطة الانطلاق_نابل    0.034828\n",
            "       cat__محطة الوصول_مزنين    0.033585\n",
            "✅ Model training completed successfully!\n",
            "\n",
            "📊 Model trained with 234 features\n",
            "\n",
            "🏆 Top 5 Most Important Features:\n",
            "                      feature  importance\n",
            "         remainder__durée_min    0.241899\n",
            "             remainder__الكلم    0.104548\n",
            "cat__محطة الوصول_الحي الجامعي    0.048094\n",
            "      cat__محطة الانطلاق_نابل    0.034828\n",
            "       cat__محطة الوصول_مزنين    0.033585\n"
          ]
        }
      ],
      "source": [
        "# Train the model\n",
        "print(\"🚀 Training the model...\")\n",
        "\n",
        "try:\n",
        "    # Fit the model\n",
        "    model.fit(X_train, y_train)\n",
        "    print(\"✅ Model training completed successfully!\")\n",
        "    \n",
        "    # Get feature importance if available\n",
        "    if hasattr(model.named_steps['classifier'], 'feature_importances_'):\n",
        "        feature_importance = model.named_steps['classifier'].feature_importances_\n",
        "        print(f\"\\n📊 Model trained with {len(feature_importance)} features\")\n",
        "        \n",
        "        # Show top 5 most important features\n",
        "        if hasattr(model.named_steps['preprocessor'], 'get_feature_names_out'):\n",
        "            try:\n",
        "                feature_names = model.named_steps['preprocessor'].get_feature_names_out()\n",
        "                importance_df = pd.DataFrame({\n",
        "                    'feature': feature_names,\n",
        "                    'importance': feature_importance\n",
        "                }).sort_values('importance', ascending=False)\n",
        "                \n",
        "                print(\"\\n🏆 Top 5 Most Important Features:\")\n",
        "                print(importance_df.head().to_string(index=False))\n",
        "            except:\n",
        "                print(\"\\n📊 Feature importance calculated but feature names not available\")\n",
        "        \n",
        "except Exception as e:\n",
        "    print(f\"❌ Error during model training: {e}\")"
      ]
    },
    {
      "cell_type": "markdown",
      "id": "bd5ea6b0",
      "metadata": {},
      "source": [
        "## 9. 📈 Model Evaluation\n",
        "\n",
        "Let's evaluate our trained model's performance on the test set."
      ]
    },
    {
      "cell_type": "code",
      "execution_count": 28,
      "id": "b4ab2660",
      "metadata": {},
      "outputs": [
        {
          "name": "stdout",
          "output_type": "stream",
          "text": [
            "🔮 Making predictions on test set...\n",
            "✅ Predictions completed successfully!\n",
            "\n",
            "🎯 Model Accuracy: 0.9586 (95.86%)\n",
            "✅ Predictions completed successfully!\n",
            "\n",
            "🎯 Model Accuracy: 0.9586 (95.86%)\n"
          ]
        }
      ],
      "source": [
        "# Make predictions on the test set\n",
        "print(\"🔮 Making predictions on test set...\")\n",
        "\n",
        "try:\n",
        "    y_pred = model.predict(X_test)\n",
        "    y_pred_proba = model.predict_proba(X_test)[:, 1]  # Probability of being best trip\n",
        "    \n",
        "    print(\"✅ Predictions completed successfully!\")\n",
        "    \n",
        "    # Calculate accuracy\n",
        "    accuracy = accuracy_score(y_test, y_pred)\n",
        "    print(f\"\\n🎯 Model Accuracy: {accuracy:.4f} ({accuracy*100:.2f}%)\")\n",
        "    \n",
        "except Exception as e:\n",
        "    print(f\"❌ Error making predictions: {e}\")"
      ]
    },
    {
      "cell_type": "code",
      "execution_count": 29,
      "id": "ba5fdcc2",
      "metadata": {},
      "outputs": [
        {
          "name": "stdout",
          "output_type": "stream",
          "text": [
            "📊 Detailed Classification Report:\n",
            "==================================================\n",
            "              precision    recall  f1-score   support\n",
            "\n",
            "           0       0.93      0.96      0.94       735\n",
            "           1       0.98      0.96      0.97      1391\n",
            "\n",
            "    accuracy                           0.96      2126\n",
            "   macro avg       0.95      0.96      0.95      2126\n",
            "weighted avg       0.96      0.96      0.96      2126\n",
            "\n"
          ]
        }
      ],
      "source": [
        "# Detailed classification report\n",
        "print(\"📊 Detailed Classification Report:\")\n",
        "print(\"=\" * 50)\n",
        "try:\n",
        "    report = classification_report(y_test, y_pred, zero_division=0)\n",
        "    print(report)\n",
        "except Exception as e:\n",
        "    print(f\"❌ Error generating classification report: {e}\")"
      ]
    },
    {
      "cell_type": "code",
      "execution_count": 30,
      "id": "f3f15052",
      "metadata": {},
      "outputs": [
        {
          "data": {
            "image/png": "[encoded data removed]",
            "text/plain": [
              "<Figure size 800x600 with 2 Axes>"
            ]
          },
          "metadata": {},
          "output_type": "display_data"
        },
        {
          "name": "stdout",
          "output_type": "stream",
          "text": [
            "✅ Confusion matrix plotted successfully!\n"
          ]
        }
      ],
      "source": [
        "# Confusion Matrix Visualization\n",
        "try:\n",
        "    cm = confusion_matrix(y_test, y_pred)\n",
        "    \n",
        "    plt.figure(figsize=(8, 6))\n",
        "    sns.heatmap(cm, annot=True, fmt='d', cmap='Blues', \n",
        "                xticklabels=['Not Best', 'Best Trip'],\n",
        "                yticklabels=['Not Best', 'Best Trip'])\n",
        "    plt.title('Confusion Matrix', fontsize=14, fontweight='bold')\n",
        "    plt.xlabel('Predicted Label')\n",
        "    plt.ylabel('True Label')\n",
        "    plt.show()\n",
        "    \n",
        "    print(\"✅ Confusion matrix plotted successfully!\")\n",
        "    \n",
        "except Exception as e:\n",
        "    print(f\"❌ Error creating confusion matrix: {e}\")"
      ]
    },
    {
      "cell_type": "code",
      "execution_count": 31,
      "id": "61da665e",
      "metadata": {},
      "outputs": [
        {
          "name": "stdout",
          "output_type": "stream",
          "text": [
            "\n",
            "📋 Model Performance Summary:\n",
            "========================================\n",
            "🎯 Accuracy:  0.9586 (95.86%)\n",
            "🎯 Precision: 0.9766 (97.66%)\n",
            "🎯 Recall:    0.9597 (95.97%)\n",
            "🎯 F1-Score:  0.9681 (96.81%)\n",
            "\n",
            "💡 Performance Interpretation:\n",
            "   ✅ Excellent accuracy - model performs very well\n"
          ]
        }
      ],
      "source": [
        "# Model performance summary\n",
        "print(\"\\n📋 Model Performance Summary:\")\n",
        "print(\"=\" * 40)\n",
        "\n",
        "try:\n",
        "    # Calculate additional metrics\n",
        "    from sklearn.metrics import precision_score, recall_score, f1_score\n",
        "    \n",
        "    precision = precision_score(y_test, y_pred, zero_division=0)\n",
        "    recall = recall_score(y_test, y_pred, zero_division=0)\n",
        "    f1 = f1_score(y_test, y_pred, zero_division=0)\n",
        "    \n",
        "    print(f\"🎯 Accuracy:  {accuracy:.4f} ({accuracy*100:.2f}%)\")\n",
        "    print(f\"🎯 Precision: {precision:.4f} ({precision*100:.2f}%)\")\n",
        "    print(f\"🎯 Recall:    {recall:.4f} ({recall*100:.2f}%)\")\n",
        "    print(f\"🎯 F1-Score:  {f1:.4f} ({f1*100:.2f}%)\")\n",
        "    \n",
        "    # Interpretation\n",
        "    print(\"\\n💡 Performance Interpretation:\")\n",
        "    if accuracy > 0.8:\n",
        "        print(\"   ✅ Excellent accuracy - model performs very well\")\n",
        "    elif accuracy > 0.7:\n",
        "        print(\"   ✅ Good accuracy - model performs well\")\n",
        "    elif accuracy > 0.6:\n",
        "        print(\"   ⚠️ Moderate accuracy - room for improvement\")\n",
        "    else:\n",
        "        print(\"   ❌ Low accuracy - model needs significant improvement\")\n",
        "        \n",
        "except Exception as e:\n",
        "    print(f\"❌ Error calculating performance metrics: {e}\")"
      ]
    },
    {
      "cell_type": "markdown",
      "id": "30767dc3",
      "metadata": {},
      "source": [
        "## 10. 🎯 Recommendation System Functions\n",
        "\n",
        "Now let's create the recommendation functions that will help users find the best bus routes."
      ]
    },
    {
      "cell_type": "code",
      "execution_count": 33,
      "id": "6bdd26ba",
      "metadata": {},
      "outputs": [
        {
          "name": "stdout",
          "output_type": "stream",
          "text": [
            "✅ Recommendation functions defined successfully!\n"
          ]
        }
      ],
      "source": [
        "# Define recommendation functions\n",
        "def baseline_filter(df, origin, destination, day_of_week, desired_time_min):\n",
        "    \"\"\"\n",
        "    Simple baseline recommendation: next available trip.\n",
        "    \n",
        "    Parameters:\n",
        "    - df: DataFrame with bus data\n",
        "    - origin: Origin station name\n",
        "    - destination: Destination station name  \n",
        "    - day_of_week: Day of the week\n",
        "    - desired_time_min: Desired departure time in minutes from midnight\n",
        "    \n",
        "    Returns:\n",
        "    - DataFrame with the next available trip\n",
        "    \"\"\"\n",
        "    # Filter candidates\n",
        "    candidates = df[\n",
        "        (df['محطة الانطلاق'] == origin) &\n",
        "        (df['محطة الوصول'] == destination) &\n",
        "        (df['jour_semaine'] == day_of_week) &\n",
        "        (df['depart_min'] >= desired_time_min)\n",
        "    ].copy()\n",
        "\n",
        "    if candidates.empty:\n",
        "        return pd.DataFrame()\n",
        "\n",
        "    # Sort by departure time, then by duration\n",
        "    candidates.sort_values(by=['depart_min', 'durée_min'], inplace=True)\n",
        "    \n",
        "    return candidates.head(1)\n",
        "\n",
        "\n",
        "def recommend_best_trip(df, model, origin, destination, day_of_week, desired_time_min):\n",
        "    \"\"\"\n",
        "    ML-powered recommendation using the trained model.\n",
        "    \n",
        "    Parameters:\n",
        "    - df: DataFrame with bus data\n",
        "    - model: Trained ML model\n",
        "    - origin: Origin station name\n",
        "    - destination: Destination station name\n",
        "    - day_of_week: Day of the week\n",
        "    - desired_time_min: Desired departure time in minutes from midnight\n",
        "    \n",
        "    Returns:\n",
        "    - DataFrame with the recommended trip and confidence score\n",
        "    \"\"\"\n",
        "    # Filter candidates\n",
        "    candidates = df[\n",
        "        (df['محطة الانطلاق'] == origin) &\n",
        "        (df['محطة الوصول'] == destination) &\n",
        "        (df['jour_semaine'] == day_of_week) &\n",
        "        (df['depart_min'] >= desired_time_min)\n",
        "    ].copy()\n",
        "\n",
        "    if candidates.empty:\n",
        "        return pd.DataFrame()\n",
        "\n",
        "    try:\n",
        "        # Prepare features for prediction\n",
        "        X_candidates = candidates[features_to_use]\n",
        "        \n",
        "        # Get prediction probabilities\n",
        "        probabilities = model.predict_proba(X_candidates)[:, 1]\n",
        "        candidates['best_trip_score'] = probabilities\n",
        "\n",
        "        # Sort by confidence score\n",
        "        recommendation = candidates.sort_values(by='best_trip_score', ascending=False)\n",
        "        \n",
        "        return recommendation.head(1)\n",
        "        \n",
        "    except Exception as e:\n",
        "        print(f\"Error in ML recommendation: {e}\")\n",
        "        return pd.DataFrame()\n",
        "\n",
        "print(\"✅ Recommendation functions defined successfully!\")"
      ]
    }
  ],
  "metadata": {
    "kernelspec": {
      "display_name": "Python 3",
      "language": "python",
      "name": "python3"
    },
    "language_info": {
      "codemirror_mode": {
        "name": "ipython",
        "version": 3
      },
      "file_extension": ".py",
      "mimetype": "text/x-python",
      "name": "python",
      "nbconvert_exporter": "python",
      "pygments_lexer": "ipython3",
      "version": "3.13.1"
    }
  },
  "nbformat": 4,
  "nbformat_minor": 5
}
